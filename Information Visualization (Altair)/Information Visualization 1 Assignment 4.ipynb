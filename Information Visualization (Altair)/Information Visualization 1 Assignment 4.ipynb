{
 "cells": [
  {
   "cell_type": "markdown",
   "metadata": {},
   "source": [
    "Before you turn this problem in, make sure everything runs as expected. First, **restart the kernel** (in the menubar, select Kernel$\\rightarrow$Restart) and then **run all cells** (in the menubar, select Cell$\\rightarrow$Run All).\n",
    "\n",
    "Make sure you fill in any place that says `YOUR CODE HERE` or \"YOUR ANSWER HERE\", as well as your name and collaborators below:"
   ]
  },
  {
   "cell_type": "code",
   "execution_count": 1,
   "metadata": {},
   "outputs": [],
   "source": [
    "NAME = \"Cody Lange\"\n",
    "COLLABORATORS = \"\""
   ]
  },
  {
   "cell_type": "markdown",
   "metadata": {},
   "source": [
    "---"
   ]
  },
  {
   "cell_type": "markdown",
   "metadata": {},
   "source": [
    "# Information Visualization I \n",
    "## School of Information, University of Michigan\n",
    "\n",
    "## Week 4: \n",
    "- Data Types\n",
    "- Design\n",
    "\n",
    "## Assignment Overview\n",
    "### This assignment's objectives include:\n",
    "\n",
    "- Review, reflect on, and apply the concepts of encoding different data types. Given a visualization, justify different encodings for certain datatypes.\n",
    "- Review, reflect on, and apply good design decisions in a visualization. Given a visualization critique design decisions according to principles like Tufte's data-ink ratio, graphical integrity, chart junk, Munzner's rules of thumb, etc.\n",
    "\n",
    "<img src=\"assets/data-ink-ratio.png\" alt=\"Drawing\" style=\"width: 500px;\"/>\n",
    "<p style=\"text-align: center;\"> Same information, less ink </p>\n",
    "\n",
    "- Recreate, propose new and alternative visualizations using [Altair](https://altair-viz.github.io/) \n",
    "\n",
    "### The total score of this assignment will be 100 points consisting of:\n",
    "- Case study reflection: The Mayweather-McGregor Fight, As Told Through Emojis (30 points)\n",
    "- Altair programming exercise (70 points)\n",
    "\n",
    "\n",
    "### Resources:\n",
    "- Article by [Five Thirty Eight](https://fivethirtyeight.com) available  [online](https://fivethirtyeight.com/features/the-mayweather-mcgregor-fight-as-told-through-emojis/) (Hickey, Koeze, Dottle, Wezerek 2017)  \n",
    "- Datasets from Five Thirty Eight, we have download a subset of these datasets to [./assets](assets) but the original can be found on [Five Thirty Eight Mayweather vs McGregor](https://github.com/fivethirtyeight/data/tree/master/mayweather-mcgregor)\n",
    "\n",
    "### A note about autograding\n",
    "Because there are many ways to generate the correct visualization, we will not be using the autograder for this assignment. Compare your result to the provided samples. Try to get as close to our provided solution as possible."
   ]
  },
  {
   "cell_type": "markdown",
   "metadata": {},
   "source": [
    "## Part 1. Data Types & Design (30 points)\n",
    "Read the article published in Five Thirty Eight [The Mayweather-McGregor Fight, As Told Through Emojis](https://fivethirtyeight.com/features/the-mayweather-mcgregor-fight-as-told-through-emojis/) and answer the following questions:\n"
   ]
  },
  {
   "cell_type": "markdown",
   "metadata": {
    "deletable": false,
    "nbgrader": {
     "checksum": "39c3d4ea2dfb2e1df1128d67c77611bd",
     "grade": true,
     "grade_id": "cell-c5bf343a4cf7dab9",
     "locked": false,
     "points": 0,
     "schema_version": 1,
     "solution": true
    }
   },
   "source": [
    "# Section deleted"
   ]
  },
  {
   "attachments": {},
   "cell_type": "markdown",
   "metadata": {
    "deletable": false,
    "nbgrader": {
     "checksum": "8f5ef95650bb69a533009d9c2ffdd3eb",
     "grade": true,
     "grade_id": "cell-1d7c7601bad19be0",
     "locked": false,
     "points": 0,
     "schema_version": 1,
     "solution": true
    }
   },
   "source": []
  },
  {
   "cell_type": "markdown",
   "metadata": {
    "deletable": false,
    "nbgrader": {
     "checksum": "7b9873cd9c5dea9442a6c0d899fac2d1",
     "grade": true,
     "grade_id": "cell-459664b33e6e8d59",
     "locked": false,
     "points": 0,
     "schema_version": 1,
     "solution": true
    }
   },
   "source": []
  },
  {
   "cell_type": "markdown",
   "metadata": {},
   "source": [
    "## Part 2. Altair programming exercise (70 points)\n",
    "We have provided you with some code and parts of the article [The Mayweather-McGregor Fight, As Told Through Emojis](https://fivethirtyeight.com/features/the-mayweather-mcgregor-fight-as-told-through-emojis/). This article is based on the dataset:\n",
    "\n",
    "1. [tweets](data/tweets.csv) Created by FiveThirtyEight with the Twitter Streaming API containing a sample of all the tweets that matched the search terms: #MayMac, #MayweatherMcGregor, #MayweatherVMcGregor, #MayweatherVsMcGregor, #McGregor and #Mayweather collected between 12:05 a.m. and 1:15 a.m. EDT, 12,118 that had emojis. Available [on github](https://github.com/fivethirtyeight/data/tree/master/mayweather-mcgregor)\n",
    "\n",
    "To earn points for this assignment, you must:\n",
    "\n",
    "- Recreate the visualizations in the article (replace the images in the article with a code cell that creates a visualization). There are four visualizations to make. For the 2nd, 3rd, and 4th, we provide some example code to get the data into the right structure. The points for each visualization are distributed: (30 points: 9 (1st problem) + 7 (each of 2nd, 3rd & 4th)).\n",
    "\n",
    "    - _Partial credit can be granted for each visualization (up to 5 points) if you provide the grammar of graphics description of the visualization without a fully implemented Altair solution_\n",
    "\n",
    "- Propose one alternative visualization for one of the 4 article visualizations. Add a short paragraph describing why your visualization is better in terms of Design / Variable types encoding. (20 points/ 15 points plot + 5 justification)\n",
    "\n",
    "\n",
    "- Propose a new visualization to complement a part of the article. Add a short paragraph justifying your decisions in terms of Design / Variable types encoding.  (20 points/ 15 points plot + 5 justification)\n",
    "\n",
    "### Before you begin\n",
    "*IMPORTANT BROWSER ISSUE*: For some non-ES6 Browsers there are problems with date/time conversions (see [this](https://altair-viz.github.io/user_guide/times_and_dates.html)). If things aren't working try something like Chrome for this assignment.\n",
    "\n",
    "*IMPORTANT DATA ISSUE*: There are some differences in the data that 538 used and what we have. This will cause some issues to how things are normalized. Things should look very similar, but you may find, for example, that the scale of tweets when you normalize is different than the original figure. This is fine.\n",
    "\n",
    "*IMPORTANT STYLING/ANNOTATION* NOTE: Part of this assignment is to get styling and annotation to be as close to 538 as possible. Altair and Vega-Lite aren't super helpful for annotation purposes. You will find that you need to do things like layering text and the arrows (hint: see [here](https://github.com/altair-viz/altair/issues/1721)). What I usually do in practice (when I need the visualization to look good and have annotation) is get things as close to how I want them to look, export the image as an SVG and then load it into [Figma](https://www.figma.com/), [InkScape](https://inkscape.org/), or [Adobe Illustrator](https://www.adobe.com/products/illustrator.html). You can see \"reasonably close approximations\" in the examples we provide. Those have been generated using nothing but Altair."
   ]
  },
  {
   "cell_type": "code",
   "execution_count": 2,
   "metadata": {},
   "outputs": [],
   "source": [
    "# start with the setup\n",
    "import pandas as pd\n",
    "import altair as alt\n",
    "import numpy as np"
   ]
  },
  {
   "cell_type": "code",
   "execution_count": 3,
   "metadata": {},
   "outputs": [
    {
     "data": {
      "text/plain": [
       "RendererRegistry.enable('default')"
      ]
     },
     "execution_count": 3,
     "metadata": {},
     "output_type": "execute_result"
    }
   ],
   "source": [
    "# enable correct rendering\n",
    "alt.renderers.enable('default')"
   ]
  },
  {
   "cell_type": "code",
   "execution_count": 4,
   "metadata": {},
   "outputs": [
    {
     "data": {
      "text/plain": [
       "DataTransformerRegistry.enable('json')"
      ]
     },
     "execution_count": 4,
     "metadata": {},
     "output_type": "execute_result"
    }
   ],
   "source": [
    "# uses intermediate json files to speed things up\n",
    "alt.data_transformers.enable('json')"
   ]
  },
  {
   "cell_type": "code",
   "execution_count": 5,
   "metadata": {},
   "outputs": [],
   "source": [
    "# we're going to do some setup here in anticipation of needing the data in \n",
    "# a specific format. We moved it all up here so everything is in one place.\n",
    "\n",
    "# load the tweets\n",
    "tweets = pd.read_csv('assets/tweets.csv')\n",
    "\n",
    "# we're going to process the data in a couple of ways\n",
    "# first, we want to know how many emojis are in each tweet so we'll create a new column\n",
    "# that counts them\n",
    "tweets['emojis'] = tweets['text'].str.findall(r'[^\\w\\s.,\"@\\'?/#!$%\\^&\\*;:{}=\\-_`~()\\U0001F1E6-\\U0001F1FF]').str.len()\n",
    "\n",
    "# next, there are a few specific emojis that we care about, we're going to create\n",
    "# a column for each one and indicate how many times it showed up in the tweet\n",
    "boxer_emojis = ['☘️','🇮🇪','🍀','💸','🤑','💰','💵','😴','😂','🤣','🥊','👊','👏','🇮🇪','💪','🔥','😭','💰']\n",
    "for emoji in boxer_emojis:\n",
    "    # here's a different way to get the counts\n",
    "    tweets[emoji] = tweets.text.str.count(emoji)\n",
    "    \n",
    "# For the irish pride vs the money team we want the numer \n",
    "# of either ☘️, 🇮🇪 or 🍀 and 💸, 🤑, 💰 or 💵 for each\n",
    "tweets['irish_pride'] = tweets['☘️'] + tweets['🇮🇪'] + tweets['🍀']\n",
    "tweets['money_team'] = tweets['💸'] + tweets['🤑'] + tweets['💰'] +  tweets['💵']"
   ]
  },
  {
   "cell_type": "code",
   "execution_count": 6,
   "metadata": {},
   "outputs": [
    {
     "data": {
      "text/html": [
       "<div>\n",
       "<style scoped>\n",
       "    .dataframe tbody tr th:only-of-type {\n",
       "        vertical-align: middle;\n",
       "    }\n",
       "\n",
       "    .dataframe tbody tr th {\n",
       "        vertical-align: top;\n",
       "    }\n",
       "\n",
       "    .dataframe thead th {\n",
       "        text-align: right;\n",
       "    }\n",
       "</style>\n",
       "<table border=\"1\" class=\"dataframe\">\n",
       "  <thead>\n",
       "    <tr style=\"text-align: right;\">\n",
       "      <th></th>\n",
       "      <th>created_at</th>\n",
       "      <th>emojis</th>\n",
       "      <th>id</th>\n",
       "      <th>link</th>\n",
       "      <th>retweeted</th>\n",
       "      <th>screen_name</th>\n",
       "      <th>text</th>\n",
       "      <th>☘️</th>\n",
       "      <th>🇮🇪</th>\n",
       "      <th>🍀</th>\n",
       "      <th>...</th>\n",
       "      <th>😂</th>\n",
       "      <th>🤣</th>\n",
       "      <th>🥊</th>\n",
       "      <th>👊</th>\n",
       "      <th>👏</th>\n",
       "      <th>💪</th>\n",
       "      <th>🔥</th>\n",
       "      <th>😭</th>\n",
       "      <th>irish_pride</th>\n",
       "      <th>money_team</th>\n",
       "    </tr>\n",
       "  </thead>\n",
       "  <tbody>\n",
       "    <tr>\n",
       "      <th>0</th>\n",
       "      <td>2017-08-27 00:05:34</td>\n",
       "      <td>1</td>\n",
       "      <td>901656910939770881</td>\n",
       "      <td>https://twitter.com/statuses/901656910939770881</td>\n",
       "      <td>False</td>\n",
       "      <td>aaLiysr</td>\n",
       "      <td>Ringe çıkmadan ateş etmeye başladı 😃#McGregor ...</td>\n",
       "      <td>0</td>\n",
       "      <td>0</td>\n",
       "      <td>0</td>\n",
       "      <td>...</td>\n",
       "      <td>0</td>\n",
       "      <td>0</td>\n",
       "      <td>0</td>\n",
       "      <td>0</td>\n",
       "      <td>0</td>\n",
       "      <td>0</td>\n",
       "      <td>0</td>\n",
       "      <td>0</td>\n",
       "      <td>0</td>\n",
       "      <td>0</td>\n",
       "    </tr>\n",
       "    <tr>\n",
       "      <th>1</th>\n",
       "      <td>2017-08-27 00:05:35</td>\n",
       "      <td>5</td>\n",
       "      <td>901656917281574912</td>\n",
       "      <td>https://twitter.com/statuses/901656917281574912</td>\n",
       "      <td>False</td>\n",
       "      <td>zulmafrancozaf</td>\n",
       "      <td>😲😲😲😲😲 @lalylourbet2 https://t.co/ERUGHhQINE</td>\n",
       "      <td>0</td>\n",
       "      <td>0</td>\n",
       "      <td>0</td>\n",
       "      <td>...</td>\n",
       "      <td>0</td>\n",
       "      <td>0</td>\n",
       "      <td>0</td>\n",
       "      <td>0</td>\n",
       "      <td>0</td>\n",
       "      <td>0</td>\n",
       "      <td>0</td>\n",
       "      <td>0</td>\n",
       "      <td>0</td>\n",
       "      <td>0</td>\n",
       "    </tr>\n",
       "    <tr>\n",
       "      <th>2</th>\n",
       "      <td>2017-08-27 00:05:35</td>\n",
       "      <td>2</td>\n",
       "      <td>901656917105369088</td>\n",
       "      <td>https://twitter.com/statuses/901656917105369088</td>\n",
       "      <td>False</td>\n",
       "      <td>Adriana11D</td>\n",
       "      <td>🇮🇪🇮🇪🇮🇪 💪💪#MayweathervMcgregor</td>\n",
       "      <td>0</td>\n",
       "      <td>3</td>\n",
       "      <td>0</td>\n",
       "      <td>...</td>\n",
       "      <td>0</td>\n",
       "      <td>0</td>\n",
       "      <td>0</td>\n",
       "      <td>0</td>\n",
       "      <td>0</td>\n",
       "      <td>2</td>\n",
       "      <td>0</td>\n",
       "      <td>0</td>\n",
       "      <td>3</td>\n",
       "      <td>0</td>\n",
       "    </tr>\n",
       "    <tr>\n",
       "      <th>3</th>\n",
       "      <td>2017-08-27 00:05:35</td>\n",
       "      <td>2</td>\n",
       "      <td>901656917747142657</td>\n",
       "      <td>https://twitter.com/statuses/901656917747142657</td>\n",
       "      <td>False</td>\n",
       "      <td>Nathan_Caro_</td>\n",
       "      <td>Cest partit #MayweatherMcGregor 💪🏿</td>\n",
       "      <td>0</td>\n",
       "      <td>0</td>\n",
       "      <td>0</td>\n",
       "      <td>...</td>\n",
       "      <td>0</td>\n",
       "      <td>0</td>\n",
       "      <td>0</td>\n",
       "      <td>0</td>\n",
       "      <td>0</td>\n",
       "      <td>1</td>\n",
       "      <td>0</td>\n",
       "      <td>0</td>\n",
       "      <td>0</td>\n",
       "      <td>0</td>\n",
       "    </tr>\n",
       "    <tr>\n",
       "      <th>4</th>\n",
       "      <td>2017-08-27 00:05:35</td>\n",
       "      <td>2</td>\n",
       "      <td>901656916828594177</td>\n",
       "      <td>https://twitter.com/statuses/901656916828594177</td>\n",
       "      <td>False</td>\n",
       "      <td>sahouraxox</td>\n",
       "      <td>Low key feeling bad for ppl who payed to watch...</td>\n",
       "      <td>0</td>\n",
       "      <td>0</td>\n",
       "      <td>0</td>\n",
       "      <td>...</td>\n",
       "      <td>0</td>\n",
       "      <td>2</td>\n",
       "      <td>0</td>\n",
       "      <td>0</td>\n",
       "      <td>0</td>\n",
       "      <td>0</td>\n",
       "      <td>0</td>\n",
       "      <td>0</td>\n",
       "      <td>0</td>\n",
       "      <td>0</td>\n",
       "    </tr>\n",
       "  </tbody>\n",
       "</table>\n",
       "<p>5 rows × 25 columns</p>\n",
       "</div>"
      ],
      "text/plain": [
       "            created_at  emojis                  id  \\\n",
       "0  2017-08-27 00:05:34       1  901656910939770881   \n",
       "1  2017-08-27 00:05:35       5  901656917281574912   \n",
       "2  2017-08-27 00:05:35       2  901656917105369088   \n",
       "3  2017-08-27 00:05:35       2  901656917747142657   \n",
       "4  2017-08-27 00:05:35       2  901656916828594177   \n",
       "\n",
       "                                              link  retweeted     screen_name  \\\n",
       "0  https://twitter.com/statuses/901656910939770881      False         aaLiysr   \n",
       "1  https://twitter.com/statuses/901656917281574912      False  zulmafrancozaf   \n",
       "2  https://twitter.com/statuses/901656917105369088      False      Adriana11D   \n",
       "3  https://twitter.com/statuses/901656917747142657      False    Nathan_Caro_   \n",
       "4  https://twitter.com/statuses/901656916828594177      False      sahouraxox   \n",
       "\n",
       "                                                text  ☘️  🇮🇪  🍀  ...  😂  🤣  🥊  \\\n",
       "0  Ringe çıkmadan ateş etmeye başladı 😃#McGregor ...   0   0  0  ...  0  0  0   \n",
       "1        😲😲😲😲😲 @lalylourbet2 https://t.co/ERUGHhQINE   0   0  0  ...  0  0  0   \n",
       "2                      🇮🇪🇮🇪🇮🇪 💪💪#MayweathervMcgregor   0   3  0  ...  0  0  0   \n",
       "3                 Cest partit #MayweatherMcGregor 💪🏿   0   0  0  ...  0  0  0   \n",
       "4  Low key feeling bad for ppl who payed to watch...   0   0  0  ...  0  2  0   \n",
       "\n",
       "   👊  👏  💪  🔥  😭  irish_pride  money_team  \n",
       "0  0  0  0  0  0            0           0  \n",
       "1  0  0  0  0  0            0           0  \n",
       "2  0  0  2  0  0            3           0  \n",
       "3  0  0  1  0  0            0           0  \n",
       "4  0  0  0  0  0            0           0  \n",
       "\n",
       "[5 rows x 25 columns]"
      ]
     },
     "execution_count": 6,
     "metadata": {},
     "output_type": "execute_result"
    }
   ],
   "source": [
    "# uncomment to see what's inside\n",
    "tweets.head()"
   ]
  },
  {
   "cell_type": "markdown",
   "metadata": {},
   "source": [
    "# The Mayweather-McGregor Fight, As Told Through Emojis"
   ]
  },
  {
   "cell_type": "markdown",
   "metadata": {},
   "source": [
    " ### <font color=grey>We laughed, cried and cried some more. </font>"
   ]
  },
  {
   "cell_type": "markdown",
   "metadata": {},
   "source": [
    "_Original article available at [FiveThirtyEight](https://fivethirtyeight.com/features/the-mayweather-mcgregor-fight-as-told-through-emojis/)_\n",
    "\n",
    "By [Dhrumil Mehta](https://fivethirtyeight.com/contributors/dhrumil-mehta/), [Oliver Roeder](https://fivethirtyeight.com/contributors/oliver-roeder/) and [Rachael Dottle](https://fivethirtyeight.com/contributors/rachael-dottle/)\n",
    "\n",
    "Filed under [Mayweather vs. McGregor](https://fivethirtyeight.com/tag/mayweather-vs-mcgregor/)\n",
    "\n",
    "Get the data on [GitHub](https://github.com/fivethirtyeight/data/tree/master/mayweather-mcgregor)"
   ]
  },
  {
   "cell_type": "markdown",
   "metadata": {},
   "source": [
    "For the nearly 15,000 people in Las Vegas’s T-Mobile Arena on Saturday night, and the millions more huddled around TVs across the world, the Floyd Mayweather–Conor McGregor fight was a roller coaster of emotions. They were anxious as pay-per-view [technical problems](http://www.espn.com/boxing/story/_/id/20469815/floyd-mayweather-conor-mcgregor-delay-ppv-problems) pushed back the fight’s start. They were full of anticipation when the combatants finally emerged after months of hype. They were surprised when McGregor held his own, or seemed to hold his own, for a couple of rounds. They were thrilled when Mayweather finally started fighting. And they were exhausted by the end.\n",
    "\n",
    "How do we know all this? Emojis."
   ]
  },
  {
   "cell_type": "markdown",
   "metadata": {},
   "source": [
    "We were monitoring Twitter on fight night, pulling tweets that contained fight-related hashtags — those that included #MayweatherVsMcgregor, for example. In the end, we collected about 200,000 fight-related tweets, of which more than 12,000 contained emojis. (To be clear, that’s a small enough sample that this emojinalysis might not make it through peer review.)<sup>1<sup>"
   ]
  },
  {
   "cell_type": "markdown",
   "metadata": {},
   "source": [
    "> <font color=grey> 1. We used the [Twitter Streaming API](https://dev.twitter.com/streaming/overview) which provides a sample of all the tweets that matched our search terms: #MayMac, #MayweatherMcGregor, #MayweatherVMcGregor, #MayweatherVsMcGregor, #McGregor and #Mayweather. Of the 197,989 tweets we collected between 12:05 a.m. and 1:15 a.m. EDT, 12,118 had emojis.</font>"
   ]
  },
  {
   "cell_type": "markdown",
   "metadata": {},
   "source": [
    "<img src=\"assets/chart_1.png\" alt=\"Drawing\" style=\"width: 250px;\"/>\n",
    "\n",
    "** Homework note, construct your solution to this chart in the cell below. Click [here](assets/altair_chart1.png) to see a sample output from Altair."
   ]
  },
  {
   "cell_type": "code",
   "execution_count": 7,
   "metadata": {},
   "outputs": [],
   "source": [
    "# We'll help you out with a table that has the percentages for each emoji\n",
    "\n",
    "# dictionary that will map emoji to percentage\n",
    "percentages = {}  \n",
    "\n",
    "# find total emojies\n",
    "total = tweets['emojis'].sum() \n",
    "\n",
    "# for each emoji, figure out how prevalent it is\n",
    "emojis = ['😂','🤣','🥊','👊','👏','🇮🇪','💪','🔥','😭','💰']\n",
    "for emoji in emojis:  \n",
    "    percentages[emoji] = [round(tweets[emoji].sum() / total * 100,1)]\n",
    "    \n",
    "# create a data frame to hold this from the dictionary\n",
    "percentages_df = pd.DataFrame.from_dict(percentages).T\n",
    "\n",
    "# sort the dictionary \n",
    "percentages_df = percentages_df.sort_values(by=[0], ascending = False).reset_index()\n",
    "\n",
    "# rename the columns\n",
    "percentages_df = percentages_df.rename(columns={'index':'EMOJI', 0: 'PERCENT'})\n",
    "\n",
    "# create a rank column based on position in the ordered list\n",
    "percentages_df['rank'] = pd.Index(list(range(1,11)))\n",
    "\n",
    "# modify the text\n",
    "percentages_df['PERCENT_TEXT'] = percentages_df['PERCENT'].astype('str') + ' %'\n",
    "percentages_df['PERCENT'] = percentages_df.PERCENT /100"
   ]
  },
  {
   "cell_type": "code",
   "execution_count": 8,
   "metadata": {},
   "outputs": [
    {
     "data": {
      "text/html": [
       "<div>\n",
       "<style scoped>\n",
       "    .dataframe tbody tr th:only-of-type {\n",
       "        vertical-align: middle;\n",
       "    }\n",
       "\n",
       "    .dataframe tbody tr th {\n",
       "        vertical-align: top;\n",
       "    }\n",
       "\n",
       "    .dataframe thead th {\n",
       "        text-align: right;\n",
       "    }\n",
       "</style>\n",
       "<table border=\"1\" class=\"dataframe\">\n",
       "  <thead>\n",
       "    <tr style=\"text-align: right;\">\n",
       "      <th></th>\n",
       "      <th>EMOJI</th>\n",
       "      <th>PERCENT</th>\n",
       "      <th>rank</th>\n",
       "      <th>PERCENT_TEXT</th>\n",
       "    </tr>\n",
       "  </thead>\n",
       "  <tbody>\n",
       "    <tr>\n",
       "      <th>0</th>\n",
       "      <td>😂</td>\n",
       "      <td>0.231</td>\n",
       "      <td>1</td>\n",
       "      <td>23.1 %</td>\n",
       "    </tr>\n",
       "    <tr>\n",
       "      <th>1</th>\n",
       "      <td>🥊</td>\n",
       "      <td>0.057</td>\n",
       "      <td>2</td>\n",
       "      <td>5.7 %</td>\n",
       "    </tr>\n",
       "    <tr>\n",
       "      <th>2</th>\n",
       "      <td>👊</td>\n",
       "      <td>0.035</td>\n",
       "      <td>3</td>\n",
       "      <td>3.5 %</td>\n",
       "    </tr>\n",
       "    <tr>\n",
       "      <th>3</th>\n",
       "      <td>👏</td>\n",
       "      <td>0.030</td>\n",
       "      <td>4</td>\n",
       "      <td>3.0 %</td>\n",
       "    </tr>\n",
       "    <tr>\n",
       "      <th>4</th>\n",
       "      <td>💪</td>\n",
       "      <td>0.025</td>\n",
       "      <td>5</td>\n",
       "      <td>2.5 %</td>\n",
       "    </tr>\n",
       "    <tr>\n",
       "      <th>5</th>\n",
       "      <td>🇮🇪</td>\n",
       "      <td>0.024</td>\n",
       "      <td>6</td>\n",
       "      <td>2.4 %</td>\n",
       "    </tr>\n",
       "    <tr>\n",
       "      <th>6</th>\n",
       "      <td>🤣</td>\n",
       "      <td>0.023</td>\n",
       "      <td>7</td>\n",
       "      <td>2.3 %</td>\n",
       "    </tr>\n",
       "    <tr>\n",
       "      <th>7</th>\n",
       "      <td>🔥</td>\n",
       "      <td>0.023</td>\n",
       "      <td>8</td>\n",
       "      <td>2.3 %</td>\n",
       "    </tr>\n",
       "    <tr>\n",
       "      <th>8</th>\n",
       "      <td>😭</td>\n",
       "      <td>0.020</td>\n",
       "      <td>9</td>\n",
       "      <td>2.0 %</td>\n",
       "    </tr>\n",
       "    <tr>\n",
       "      <th>9</th>\n",
       "      <td>💰</td>\n",
       "      <td>0.018</td>\n",
       "      <td>10</td>\n",
       "      <td>1.8 %</td>\n",
       "    </tr>\n",
       "  </tbody>\n",
       "</table>\n",
       "</div>"
      ],
      "text/plain": [
       "  EMOJI  PERCENT  rank PERCENT_TEXT\n",
       "0     😂    0.231     1       23.1 %\n",
       "1     🥊    0.057     2        5.7 %\n",
       "2     👊    0.035     3        3.5 %\n",
       "3     👏    0.030     4        3.0 %\n",
       "4     💪    0.025     5        2.5 %\n",
       "5    🇮🇪    0.024     6        2.4 %\n",
       "6     🤣    0.023     7        2.3 %\n",
       "7     🔥    0.023     8        2.3 %\n",
       "8     😭    0.020     9        2.0 %\n",
       "9     💰    0.018    10        1.8 %"
      ]
     },
     "execution_count": 8,
     "metadata": {},
     "output_type": "execute_result"
    }
   ],
   "source": [
    "# uncomment to see what's inside\n",
    "percentages_df"
   ]
  },
  {
   "cell_type": "markdown",
   "metadata": {},
   "source": [
    "** Homework note, construct your solution to this chart in the cell below. Click [here](assets/emoji_distrib_altair.png) to see a sample output from Altair."
   ]
  },
  {
   "cell_type": "markdown",
   "metadata": {},
   "source": [
    "## 2.1 use percentages_df to recreate the visualization above"
   ]
  },
  {
   "cell_type": "code",
   "execution_count": 9,
   "metadata": {
    "deletable": false,
    "nbgrader": {
     "checksum": "daa3fefe200b07e34f61cce1f084dc4f",
     "grade": true,
     "grade_id": "cell-e53580df5d25afef",
     "locked": false,
     "points": 0,
     "schema_version": 1,
     "solution": true
    }
   },
   "outputs": [
    {
     "data": {
      "text/html": [
       "\n",
       "<div id=\"altair-viz-825eab8730f34e51a7f03d08e77493a1\"></div>\n",
       "<script type=\"text/javascript\">\n",
       "  (function(spec, embedOpt){\n",
       "    let outputDiv = document.currentScript.previousElementSibling;\n",
       "    if (outputDiv.id !== \"altair-viz-825eab8730f34e51a7f03d08e77493a1\") {\n",
       "      outputDiv = document.getElementById(\"altair-viz-825eab8730f34e51a7f03d08e77493a1\");\n",
       "    }\n",
       "    const paths = {\n",
       "      \"vega\": \"https://cdn.jsdelivr.net/npm//vega@5?noext\",\n",
       "      \"vega-lib\": \"https://cdn.jsdelivr.net/npm//vega-lib?noext\",\n",
       "      \"vega-lite\": \"https://cdn.jsdelivr.net/npm//vega-lite@4.8.1?noext\",\n",
       "      \"vega-embed\": \"https://cdn.jsdelivr.net/npm//vega-embed@6?noext\",\n",
       "    };\n",
       "\n",
       "    function loadScript(lib) {\n",
       "      return new Promise(function(resolve, reject) {\n",
       "        var s = document.createElement('script');\n",
       "        s.src = paths[lib];\n",
       "        s.async = true;\n",
       "        s.onload = () => resolve(paths[lib]);\n",
       "        s.onerror = () => reject(`Error loading script: ${paths[lib]}`);\n",
       "        document.getElementsByTagName(\"head\")[0].appendChild(s);\n",
       "      });\n",
       "    }\n",
       "\n",
       "    function showError(err) {\n",
       "      outputDiv.innerHTML = `<div class=\"error\" style=\"color:red;\">${err}</div>`;\n",
       "      throw err;\n",
       "    }\n",
       "\n",
       "    function displayChart(vegaEmbed) {\n",
       "      vegaEmbed(outputDiv, spec, embedOpt)\n",
       "        .catch(err => showError(`Javascript Error: ${err.message}<br>This usually means there's a typo in your chart specification. See the javascript console for the full traceback.`));\n",
       "    }\n",
       "\n",
       "    if(typeof define === \"function\" && define.amd) {\n",
       "      requirejs.config({paths});\n",
       "      require([\"vega-embed\"], displayChart, err => showError(`Error loading script: ${err.message}`));\n",
       "    } else if (typeof vegaEmbed === \"function\") {\n",
       "      displayChart(vegaEmbed);\n",
       "    } else {\n",
       "      loadScript(\"vega\")\n",
       "        .then(() => loadScript(\"vega-lite\"))\n",
       "        .then(() => loadScript(\"vega-embed\"))\n",
       "        .catch(showError)\n",
       "        .then(() => displayChart(vegaEmbed));\n",
       "    }\n",
       "  })({\"config\": {\"view\": {\"continuousWidth\": 400, \"continuousHeight\": 300, \"strokeWidth\": 0}, \"scale\": {\"bandPaddingInner\": 0.2}}, \"hconcat\": [{\"mark\": {\"type\": \"text\", \"size\": 13}, \"encoding\": {\"text\": {\"type\": \"quantitative\", \"field\": \"rank\"}, \"y\": {\"type\": \"nominal\", \"axis\": null, \"field\": \"EMOJI\", \"sort\": null}}, \"height\": 250, \"width\": 20}, {\"mark\": {\"type\": \"text\", \"size\": 13}, \"encoding\": {\"text\": {\"type\": \"nominal\", \"field\": \"EMOJI\"}, \"y\": {\"type\": \"nominal\", \"axis\": null, \"field\": \"EMOJI\", \"sort\": null}}, \"height\": 250, \"width\": 20}, {\"mark\": {\"type\": \"text\", \"size\": 13}, \"encoding\": {\"text\": {\"type\": \"ordinal\", \"field\": \"PERCENT_TEXT\"}, \"y\": {\"type\": \"nominal\", \"axis\": null, \"field\": \"EMOJI\", \"sort\": null}}, \"height\": 250, \"width\": 20}, {\"mark\": {\"type\": \"bar\", \"color\": \"#f6b700\", \"size\": 17}, \"encoding\": {\"x\": {\"type\": \"quantitative\", \"axis\": null, \"field\": \"PERCENT\"}, \"y\": {\"type\": \"nominal\", \"axis\": {\"domain\": false, \"labels\": false, \"ticks\": false, \"title\": \"\"}, \"field\": \"EMOJI\", \"sort\": null}}, \"height\": 250, \"width\": 400}], \"data\": {\"url\": \"altair-data-dfd3e24b8a5ecdbad7f92ec363aba498.json\", \"format\": {\"type\": \"json\"}}, \"$schema\": \"https://vega.github.io/schema/vega-lite/v4.8.1.json\"}, {\"mode\": \"vega-lite\"});\n",
       "</script>"
      ],
      "text/plain": [
       "alt.HConcatChart(...)"
      ]
     },
     "execution_count": 9,
     "metadata": {},
     "output_type": "execute_result"
    }
   ],
   "source": [
    "# use percentages_df to recreate the visualization above\n",
    "\n",
    "bars = alt.Chart(percentages_df).mark_bar(size=17, color='#f6b700').encode(\n",
    "    # encode x as the percent, and hide the axis\n",
    "    x=alt.X(\n",
    "        'PERCENT:Q',\n",
    "        axis=None,\n",
    "    ),\n",
    "    y=alt.Y(\n",
    "        'EMOJI:N',\n",
    "         axis=alt.Axis(ticks=False, labels=False, title='', domain=False),\n",
    "        sort=None\n",
    "    )\n",
    ").properties(\n",
    "    width=400,\n",
    "    height=250\n",
    ")\n",
    "\n",
    "#Create Ranking Column\n",
    "rankings = alt.Chart(percentages_df).mark_text(size=13).encode(\n",
    "    y=alt.Y('EMOJI:N', axis=None, sort = None\n",
    "),\n",
    "    text=alt.Text('rank:Q'),\n",
    ").properties(width=20, height = 250)\n",
    "\n",
    "#Create Emoji Column\n",
    "emojis = alt.Chart(percentages_df).mark_text(size=13).encode(\n",
    "    y=alt.Y('EMOJI:N', axis=None, sort = None\n",
    "),\n",
    "    text=alt.Text('EMOJI:N'),\n",
    ").properties(\n",
    "    width=20,\n",
    "    height=250\n",
    ")\n",
    "\n",
    "percs = alt.Chart(percentages_df).mark_text(size=13).encode(\n",
    "    y=alt.Y('EMOJI:N', axis=None, sort = None\n",
    "),\n",
    "    text=alt.Text('PERCENT_TEXT:O'),\n",
    ").properties(\n",
    "    width=20,\n",
    "    height=250\n",
    ")\n",
    "\n",
    "chart21 = alt.hconcat(rankings, emojis, percs, bars)\n",
    "chart21.configure_view(\n",
    "    # we don't want a stroke around the bars\n",
    "    strokeWidth=0\n",
    ").configure_scale(\n",
    "    # add some padding\n",
    "    bandPaddingInner=0.2\n",
    ")\n"
   ]
  },
  {
   "cell_type": "markdown",
   "metadata": {},
   "source": [
    "There were the likely frontrunners for most-used emoji: the 🥊, the 👊, the 💪. But the emoji of the fight was far and away the 😂. (“Face with tears of joy.”)<sup>2<sup>"
   ]
  },
  {
   "cell_type": "markdown",
   "metadata": {},
   "source": [
    "> <font color=grey> 1.2. That’s certainly appropriate for this spectacle, but it should be noted that 😂 is also the [most tweeted](http://emojitracker.com/) emoji generally.</font>"
   ]
  },
  {
   "cell_type": "markdown",
   "metadata": {},
   "source": [
    "Here’s how the night unfolded, emoji-wise. (All of the charts below show them on a four-minute rolling average.)\n",
    "<img src=\"assets/tweet1.png\" alt=\"Drawing\" style=\"width: 500px;\"/>"
   ]
  },
  {
   "cell_type": "markdown",
   "metadata": {},
   "source": [
    "For one thing, the fight was a sharply partisan affair. The majority of people in the arena appeared to be McGregor fans — he hails from Dublin and an Irish flag, worn cape-style, almost seemed like the evening’s dress code. But other fans were members of TMT — The Money Team — and loyal to “Money” Mayweather. Twitter’s loyalties came and went as the match progressed, with enthusiasm from either camp seemingly matching each fighter’s success."
   ]
  },
  {
   "cell_type": "markdown",
   "metadata": {},
   "source": [
    "<img src=\"assets/chart_2.png\" alt=\"Drawing\" style=\"width: 500px;\"/>"
   ]
  },
  {
   "cell_type": "code",
   "execution_count": 10,
   "metadata": {},
   "outputs": [],
   "source": [
    "# Again, we're going to help you set up the data\n",
    "\n",
    "# We're going to want to work with time objects so we need to make a datetime\n",
    "# column (basically transforming the text in \"created at\"). It duplicates\n",
    "# the data but it will make things easier\n",
    "\n",
    "\n",
    "tweets['datetime'] = pd.to_datetime(tweets['created_at'])\n",
    "tweets = tweets.set_index('datetime')\n",
    "\n",
    "\n",
    "teams = tweets.copy()\n",
    "teams['irish_pride']\n",
    "teams = teams.resample('1s').sum()\n",
    "teams  = teams[(teams['💸']>0) | (teams['🤑']>0) | (teams['💰']>0) | (teams['💵']>0) | (teams['☘️']>0) | (teams['🍀']>0) | (teams['🇮🇪']>0) ]\n",
    "\n",
    "# next we're going to creat a rolling average\n",
    "# first for the money team\n",
    "mdf = teams['money_team'].rolling('4Min').mean().reset_index()\n",
    "mdf['team'] = '💸🤑💰💵'\n",
    "mdf = mdf.rename(columns={'money_team':'tweet_count'})\n",
    "\n",
    "# next for the irish team\n",
    "idf = teams['irish_pride'].rolling('4Min').mean().reset_index()\n",
    "idf['team'] = '☘️🍀🇮🇪'\n",
    "idf = idf.rename(columns={'irish_pride':'tweet_count'})\n",
    "\n",
    "# now we'll combine our datasets\n",
    "ndf = pd.concat([mdf,idf])"
   ]
  },
  {
   "cell_type": "code",
   "execution_count": 11,
   "metadata": {},
   "outputs": [
    {
     "data": {
      "text/html": [
       "<div>\n",
       "<style scoped>\n",
       "    .dataframe tbody tr th:only-of-type {\n",
       "        vertical-align: middle;\n",
       "    }\n",
       "\n",
       "    .dataframe tbody tr th {\n",
       "        vertical-align: top;\n",
       "    }\n",
       "\n",
       "    .dataframe thead th {\n",
       "        text-align: right;\n",
       "    }\n",
       "</style>\n",
       "<table border=\"1\" class=\"dataframe\">\n",
       "  <thead>\n",
       "    <tr style=\"text-align: right;\">\n",
       "      <th></th>\n",
       "      <th>datetime</th>\n",
       "      <th>tweet_count</th>\n",
       "      <th>team</th>\n",
       "    </tr>\n",
       "  </thead>\n",
       "  <tbody>\n",
       "    <tr>\n",
       "      <th>756</th>\n",
       "      <td>2017-08-27 01:09:51</td>\n",
       "      <td>0.326087</td>\n",
       "      <td>☘️🍀🇮🇪</td>\n",
       "    </tr>\n",
       "    <tr>\n",
       "      <th>10</th>\n",
       "      <td>2017-08-27 00:05:56</td>\n",
       "      <td>2.545455</td>\n",
       "      <td>☘️🍀🇮🇪</td>\n",
       "    </tr>\n",
       "    <tr>\n",
       "      <th>740</th>\n",
       "      <td>2017-08-27 01:08:31</td>\n",
       "      <td>2.625000</td>\n",
       "      <td>💸🤑💰💵</td>\n",
       "    </tr>\n",
       "    <tr>\n",
       "      <th>138</th>\n",
       "      <td>2017-08-27 00:12:22</td>\n",
       "      <td>0.740260</td>\n",
       "      <td>💸🤑💰💵</td>\n",
       "    </tr>\n",
       "    <tr>\n",
       "      <th>353</th>\n",
       "      <td>2017-08-27 00:31:56</td>\n",
       "      <td>0.666667</td>\n",
       "      <td>💸🤑💰💵</td>\n",
       "    </tr>\n",
       "  </tbody>\n",
       "</table>\n",
       "</div>"
      ],
      "text/plain": [
       "               datetime  tweet_count   team\n",
       "756 2017-08-27 01:09:51     0.326087  ☘️🍀🇮🇪\n",
       "10  2017-08-27 00:05:56     2.545455  ☘️🍀🇮🇪\n",
       "740 2017-08-27 01:08:31     2.625000   💸🤑💰💵\n",
       "138 2017-08-27 00:12:22     0.740260   💸🤑💰💵\n",
       "353 2017-08-27 00:31:56     0.666667   💸🤑💰💵"
      ]
     },
     "execution_count": 11,
     "metadata": {},
     "output_type": "execute_result"
    }
   ],
   "source": [
    "# uncomment to see what's inside\n",
    "ndf.sample(5)"
   ]
  },
  {
   "cell_type": "code",
   "execution_count": 12,
   "metadata": {},
   "outputs": [],
   "source": [
    "# we're also going to create an annotations data frame to help you\n",
    "annotations = [['2017-08-27 00:15:00',4, 'Fight begins'],\n",
    "               ['2017-08-27 00:22:00',5, 'McGregor does OK \\nin the early rounds'],\n",
    "               ['2017-08-27 00:53:00',4, 'Mayweather takes \\nover and wins by \\nTKO']]\n",
    "a_df = pd.DataFrame(annotations, columns=['date','count','note'])"
   ]
  },
  {
   "cell_type": "code",
   "execution_count": 13,
   "metadata": {},
   "outputs": [
    {
     "data": {
      "text/html": [
       "<div>\n",
       "<style scoped>\n",
       "    .dataframe tbody tr th:only-of-type {\n",
       "        vertical-align: middle;\n",
       "    }\n",
       "\n",
       "    .dataframe tbody tr th {\n",
       "        vertical-align: top;\n",
       "    }\n",
       "\n",
       "    .dataframe thead th {\n",
       "        text-align: right;\n",
       "    }\n",
       "</style>\n",
       "<table border=\"1\" class=\"dataframe\">\n",
       "  <thead>\n",
       "    <tr style=\"text-align: right;\">\n",
       "      <th></th>\n",
       "      <th>date</th>\n",
       "      <th>count</th>\n",
       "      <th>note</th>\n",
       "    </tr>\n",
       "  </thead>\n",
       "  <tbody>\n",
       "    <tr>\n",
       "      <th>0</th>\n",
       "      <td>2017-08-27 00:15:00</td>\n",
       "      <td>4</td>\n",
       "      <td>Fight begins</td>\n",
       "    </tr>\n",
       "    <tr>\n",
       "      <th>1</th>\n",
       "      <td>2017-08-27 00:22:00</td>\n",
       "      <td>5</td>\n",
       "      <td>McGregor does OK \\nin the early rounds</td>\n",
       "    </tr>\n",
       "    <tr>\n",
       "      <th>2</th>\n",
       "      <td>2017-08-27 00:53:00</td>\n",
       "      <td>4</td>\n",
       "      <td>Mayweather takes \\nover and wins by \\nTKO</td>\n",
       "    </tr>\n",
       "  </tbody>\n",
       "</table>\n",
       "</div>"
      ],
      "text/plain": [
       "                  date  count                                       note\n",
       "0  2017-08-27 00:15:00      4                               Fight begins\n",
       "1  2017-08-27 00:22:00      5     McGregor does OK \\nin the early rounds\n",
       "2  2017-08-27 00:53:00      4  Mayweather takes \\nover and wins by \\nTKO"
      ]
     },
     "execution_count": 13,
     "metadata": {},
     "output_type": "execute_result"
    }
   ],
   "source": [
    "# uncomment to see what's inside\n",
    "a_df"
   ]
  },
  {
   "cell_type": "markdown",
   "metadata": {},
   "source": [
    "** Homework note, construct your solution to this chart in the cell below. Click [here](assets/altair_chart2.png) to see a sample output from Altair."
   ]
  },
  {
   "cell_type": "markdown",
   "metadata": {},
   "source": [
    "## 2.2 your turn, create your solution "
   ]
  },
  {
   "cell_type": "code",
   "execution_count": 14,
   "metadata": {
    "deletable": false,
    "nbgrader": {
     "checksum": "b08000a8a7a758a2d59677fc388f1fb0",
     "grade": true,
     "grade_id": "cell-94ed8837ccad14c0",
     "locked": false,
     "points": 0,
     "schema_version": 1,
     "solution": true
    }
   },
   "outputs": [
    {
     "data": {
      "text/html": [
       "\n",
       "<div id=\"altair-viz-77ab074afb6a4610a5c46e31d41fdc8b\"></div>\n",
       "<script type=\"text/javascript\">\n",
       "  (function(spec, embedOpt){\n",
       "    let outputDiv = document.currentScript.previousElementSibling;\n",
       "    if (outputDiv.id !== \"altair-viz-77ab074afb6a4610a5c46e31d41fdc8b\") {\n",
       "      outputDiv = document.getElementById(\"altair-viz-77ab074afb6a4610a5c46e31d41fdc8b\");\n",
       "    }\n",
       "    const paths = {\n",
       "      \"vega\": \"https://cdn.jsdelivr.net/npm//vega@5?noext\",\n",
       "      \"vega-lib\": \"https://cdn.jsdelivr.net/npm//vega-lib?noext\",\n",
       "      \"vega-lite\": \"https://cdn.jsdelivr.net/npm//vega-lite@4.8.1?noext\",\n",
       "      \"vega-embed\": \"https://cdn.jsdelivr.net/npm//vega-embed@6?noext\",\n",
       "    };\n",
       "\n",
       "    function loadScript(lib) {\n",
       "      return new Promise(function(resolve, reject) {\n",
       "        var s = document.createElement('script');\n",
       "        s.src = paths[lib];\n",
       "        s.async = true;\n",
       "        s.onload = () => resolve(paths[lib]);\n",
       "        s.onerror = () => reject(`Error loading script: ${paths[lib]}`);\n",
       "        document.getElementsByTagName(\"head\")[0].appendChild(s);\n",
       "      });\n",
       "    }\n",
       "\n",
       "    function showError(err) {\n",
       "      outputDiv.innerHTML = `<div class=\"error\" style=\"color:red;\">${err}</div>`;\n",
       "      throw err;\n",
       "    }\n",
       "\n",
       "    function displayChart(vegaEmbed) {\n",
       "      vegaEmbed(outputDiv, spec, embedOpt)\n",
       "        .catch(err => showError(`Javascript Error: ${err.message}<br>This usually means there's a typo in your chart specification. See the javascript console for the full traceback.`));\n",
       "    }\n",
       "\n",
       "    if(typeof define === \"function\" && define.amd) {\n",
       "      requirejs.config({paths});\n",
       "      require([\"vega-embed\"], displayChart, err => showError(`Error loading script: ${err.message}`));\n",
       "    } else if (typeof vegaEmbed === \"function\") {\n",
       "      displayChart(vegaEmbed);\n",
       "    } else {\n",
       "      loadScript(\"vega\")\n",
       "        .then(() => loadScript(\"vega-lite\"))\n",
       "        .then(() => loadScript(\"vega-embed\"))\n",
       "        .catch(showError)\n",
       "        .then(() => displayChart(vegaEmbed));\n",
       "    }\n",
       "  })({\"usermeta\": {\"embedOptions\": {\"theme\": \"fivethirtyeight\"}}, \"config\": {\"view\": {\"continuousWidth\": 400, \"continuousHeight\": 300}}, \"layer\": [{\"data\": {\"url\": \"altair-data-2a2f55197d4d02c4ca7b2e64a648b721.json\", \"format\": {\"type\": \"json\"}}, \"mark\": \"line\", \"encoding\": {\"color\": {\"type\": \"nominal\", \"field\": \"team\", \"legend\": {\"labelFontSize\": 22, \"orient\": \"top\", \"symbolType\": \"stroke\", \"title\": null}, \"scale\": {\"domain\": [\"\\u2618\\ufe0f\\ud83c\\udf40\\ud83c\\uddee\\ud83c\\uddea\", \"\\ud83d\\udcb8\\ud83e\\udd11\\ud83d\\udcb0\\ud83d\\udcb5\"], \"range\": [\"#78AB45\", \"#FBCE30\"]}}, \"x\": {\"type\": \"temporal\", \"axis\": {\"tickCount\": 4}, \"field\": \"datetime\", \"title\": \"\"}, \"y\": {\"type\": \"quantitative\", \"axis\": {\"labelFontSize\": 13, \"tickCount\": 4}, \"field\": \"tweet_count\", \"title\": \"Four-minute rolling average\"}}, \"height\": 400, \"title\": {\"text\": \"Irish Pride VS The Money Team\", \"subtitle\": [\"Four-minute rolling average of the number of uses of selected emoji in\", \"sampled tweets during the Mayweather-McGregor fight\"], \"fontSize\": 28, \"subtitleFontSize\": 20, \"anchor\": \"start\"}, \"width\": 600}, {\"data\": {\"url\": \"altair-data-fca19b628a0d41633c43b4b7b3cef3f8.json\", \"format\": {\"type\": \"json\"}}, \"mark\": {\"type\": \"text\", \"baseline\": \"middle\", \"dx\": 7, \"fontSize\": 14, \"fontWeight\": \"bold\", \"lineBreak\": \"\\n\"}, \"encoding\": {\"text\": {\"type\": \"nominal\", \"field\": \"note\"}, \"x\": {\"type\": \"temporal\", \"field\": \"date\"}, \"y\": {\"type\": \"quantitative\", \"field\": \"count\"}}}, {\"data\": {\"url\": \"altair-data-d45aaa0dd4460f5f18784f268adaf671.json\", \"format\": {\"type\": \"json\"}}, \"mark\": {\"type\": \"line\", \"color\": \"black\"}, \"encoding\": {\"detail\": {\"type\": \"nominal\", \"field\": \"class\"}, \"x\": {\"type\": \"temporal\", \"field\": \"x\"}, \"y\": {\"type\": \"quantitative\", \"field\": \"y\"}}}], \"$schema\": \"https://vega.github.io/schema/vega-lite/v4.8.1.json\"}, {\"mode\": \"vega-lite\"});\n",
       "</script>"
      ],
      "text/plain": [
       "alt.LayerChart(...)"
      ]
     },
     "execution_count": 14,
     "metadata": {},
     "output_type": "execute_result"
    }
   ],
   "source": [
    "from altair import datum #Needed for subsetting (transforming data)\n",
    "\n",
    "alt.themes.enable('fivethirtyeight') #Turns out 538 has their own Altair theme\n",
    "\n",
    "chart = alt.Chart(ndf).mark_line().encode(\n",
    "    x=alt.X(\n",
    "        'datetime:T',\n",
    "        axis=alt.Axis(tickCount=4),\n",
    "        title=''\n",
    "        ),\n",
    "    y=alt.Y(\n",
    "        'tweet_count:Q',\n",
    "        title='Four-minute rolling average',\n",
    "        axis=alt.Axis(tickCount=4, labelFontSize =13)\n",
    "    ),\n",
    "    color=alt.Color(\n",
    "          'team:N',\n",
    "           scale = alt.Scale(domain=['☘️🍀🇮🇪','💸🤑💰💵'], range=['#78AB45', '#FBCE30']),\n",
    "           legend = alt.Legend(\n",
    "               orient='top',\n",
    "               title=None,\n",
    "               symbolType='stroke',\n",
    "               labelFontSize= 22\n",
    "           )\n",
    "    )\n",
    ").properties(\n",
    "    # set the dimensions of the visualization\n",
    "    width=600,\n",
    "    height=400,\n",
    "    title={\"text\": \"Irish Pride VS The Money Team\",\n",
    "           'subtitle' : ['Four-minute rolling average of the number of uses of selected emoji in', 'sampled tweets during the Mayweather-McGregor fight'],\n",
    "           \"fontSize\":28,\n",
    "           'subtitleFontSize': 20,\n",
    "           'anchor': 'start'\n",
    "           },\n",
    ")\n",
    "\n",
    "#Create the annotations\n",
    "notes = alt.Chart(a_df).mark_text(\n",
    "    baseline='middle',\n",
    "    fontSize = 14,\n",
    "    fontWeight='bold',\n",
    "    lineBreak='\\n',\n",
    "    dx = 7\n",
    ").encode(\n",
    "    x='date:T',\n",
    "    y='count:Q',\n",
    "    text='note:N'\n",
    ")\n",
    "\n",
    "#Create lines pointing to annotations\n",
    "df = pd.DataFrame({\n",
    "    'x': ['2017-08-27 00:15:00', '2017-08-27 00:15:00', '2017-08-27 00:22:00', '2017-08-27 00:30:00'],\n",
    "    'y': [2.2, 3.7, 4.5, 3.7],\n",
    "    'class': ['A', 'A', 'B', 'B']\n",
    "})\n",
    "\n",
    "lines = alt.Chart(df).mark_line(color='black').encode(\n",
    "    x='x:T',\n",
    "    y='y',\n",
    "    detail='class'\n",
    ")\n",
    "\n",
    "(chart + notes + lines)\n"
   ]
  },
  {
   "cell_type": "markdown",
   "metadata": {},
   "source": [
    "To the surprise of many (of the neutral and pro-Mayweather viewers, anyway) McGregor won the first round. The next couple were washes, and a quarter of the way into the [scheduled 12 rounds](https://www.nytimes.com/2017/08/26/sports/mayweather-mcgregor.html) … the Irish underdog may have been winning! The Irish flags and shamrocks followed on Twitter. Things slowly (perhaps even 😴ly) turned around as one of the best pound-for-pound boxers in history took control of the man making his pro debut — an outcome which was predicted by precisely everyone. Out came the emoji money bags."
   ]
  },
  {
   "cell_type": "markdown",
   "metadata": {},
   "source": [
    "<img src=\"assets/tweet2.png\" alt=\"Drawing\" style=\"width: 500px;\"/>"
   ]
  },
  {
   "cell_type": "markdown",
   "metadata": {},
   "source": [
    "By the sixth round, it seemed like only a matter of time until the old pro dismantled the newcomer. By the ninth it was clear Mayweather was going for the knockout. It came soon thereafter. Mayweather unleashed a vicious flurry of punches in the 10th and the ref stepped in, declaring Mayweather the victor and saving McGregor, who was somehow still on his feet, from further damage."
   ]
  },
  {
   "cell_type": "markdown",
   "metadata": {},
   "source": [
    "<img src=\"assets/chart_3.png\" alt=\"Drawing\" style=\"width: 500px;\"/>"
   ]
  },
  {
   "cell_type": "markdown",
   "metadata": {},
   "source": [
    "** Homework note, construct your solution to this chart in the cell below. Click [here](assets/altair_chart3.png) to see a sample output from Altair."
   ]
  },
  {
   "cell_type": "markdown",
   "metadata": {},
   "source": [
    "## 2.3 your solution goes here, use the example above for the sampling and annotation"
   ]
  },
  {
   "cell_type": "code",
   "execution_count": 15,
   "metadata": {
    "deletable": false,
    "nbgrader": {
     "checksum": "0b5e0f045ae532023cfb3ca06b8084e6",
     "grade": true,
     "grade_id": "cell-a7f1bff8d1b7905e",
     "locked": false,
     "points": 0,
     "schema_version": 1,
     "solution": true
    }
   },
   "outputs": [],
   "source": [
    "# your solution goes here, use the example above for the sampling and annotation\n",
    "\n",
    "fire_snooze = tweets.copy()\n",
    "fire_snooze = fire_snooze.resample('1s').sum()\n",
    "fire_snooze  = fire_snooze[(fire_snooze['🔥']>0) | (fire_snooze['😴']>0)]\n",
    "\n",
    "# next we're going to creat a rolling average\n",
    "# first for fire usage\n",
    "fdf = fire_snooze['🔥'].rolling('4Min').mean().reset_index()\n",
    "fdf['emoji'] = '🔥'\n",
    "fdf = fdf.rename(columns={'🔥':'tweet_count'})\n",
    "\n",
    "# next for the snooze usage\n",
    "sdf = fire_snooze['😴'].rolling('4Min').mean().reset_index()\n",
    "sdf['emoji'] = '😴'\n",
    "sdf = sdf.rename(columns={'😴':'tweet_count'})\n",
    "\n",
    "fsdf = pd.concat([fdf,sdf])"
   ]
  },
  {
   "cell_type": "code",
   "execution_count": 16,
   "metadata": {},
   "outputs": [],
   "source": [
    "#Create Annotations df\n",
    "annotations23 = [['2017-08-27 00:15:00',1.2, 'Fight begins'],\n",
    "               ['2017-08-27 00:52:00',2.9, 'Mayweather takes control in middle rounds']]\n",
    "a_df23 = pd.DataFrame(annotations23, columns=['date','count','note'])"
   ]
  },
  {
   "cell_type": "code",
   "execution_count": 17,
   "metadata": {},
   "outputs": [
    {
     "data": {
      "text/html": [
       "\n",
       "<div id=\"altair-viz-d6049de5a4cb4b60a46d32f4791e56a6\"></div>\n",
       "<script type=\"text/javascript\">\n",
       "  (function(spec, embedOpt){\n",
       "    let outputDiv = document.currentScript.previousElementSibling;\n",
       "    if (outputDiv.id !== \"altair-viz-d6049de5a4cb4b60a46d32f4791e56a6\") {\n",
       "      outputDiv = document.getElementById(\"altair-viz-d6049de5a4cb4b60a46d32f4791e56a6\");\n",
       "    }\n",
       "    const paths = {\n",
       "      \"vega\": \"https://cdn.jsdelivr.net/npm//vega@5?noext\",\n",
       "      \"vega-lib\": \"https://cdn.jsdelivr.net/npm//vega-lib?noext\",\n",
       "      \"vega-lite\": \"https://cdn.jsdelivr.net/npm//vega-lite@4.8.1?noext\",\n",
       "      \"vega-embed\": \"https://cdn.jsdelivr.net/npm//vega-embed@6?noext\",\n",
       "    };\n",
       "\n",
       "    function loadScript(lib) {\n",
       "      return new Promise(function(resolve, reject) {\n",
       "        var s = document.createElement('script');\n",
       "        s.src = paths[lib];\n",
       "        s.async = true;\n",
       "        s.onload = () => resolve(paths[lib]);\n",
       "        s.onerror = () => reject(`Error loading script: ${paths[lib]}`);\n",
       "        document.getElementsByTagName(\"head\")[0].appendChild(s);\n",
       "      });\n",
       "    }\n",
       "\n",
       "    function showError(err) {\n",
       "      outputDiv.innerHTML = `<div class=\"error\" style=\"color:red;\">${err}</div>`;\n",
       "      throw err;\n",
       "    }\n",
       "\n",
       "    function displayChart(vegaEmbed) {\n",
       "      vegaEmbed(outputDiv, spec, embedOpt)\n",
       "        .catch(err => showError(`Javascript Error: ${err.message}<br>This usually means there's a typo in your chart specification. See the javascript console for the full traceback.`));\n",
       "    }\n",
       "\n",
       "    if(typeof define === \"function\" && define.amd) {\n",
       "      requirejs.config({paths});\n",
       "      require([\"vega-embed\"], displayChart, err => showError(`Error loading script: ${err.message}`));\n",
       "    } else if (typeof vegaEmbed === \"function\") {\n",
       "      displayChart(vegaEmbed);\n",
       "    } else {\n",
       "      loadScript(\"vega\")\n",
       "        .then(() => loadScript(\"vega-lite\"))\n",
       "        .then(() => loadScript(\"vega-embed\"))\n",
       "        .catch(showError)\n",
       "        .then(() => displayChart(vegaEmbed));\n",
       "    }\n",
       "  })({\"usermeta\": {\"embedOptions\": {\"theme\": \"fivethirtyeight\"}}, \"config\": {\"view\": {\"continuousWidth\": 400, \"continuousHeight\": 300, \"strokeWidth\": 0}}, \"layer\": [{\"data\": {\"url\": \"altair-data-162b11b6c558510fec6777966032a5c7.json\", \"format\": {\"type\": \"json\"}}, \"mark\": \"line\", \"encoding\": {\"color\": {\"type\": \"nominal\", \"field\": \"emoji\", \"legend\": {\"labelFontSize\": 33, \"orient\": \"top\", \"symbolType\": \"stroke\", \"title\": null}, \"scale\": {\"domain\": [\"\\ud83d\\udd25\", \"\\ud83d\\ude34\"], \"range\": [\"#e35f57\", \"#64c4c7\"]}}, \"x\": {\"type\": \"temporal\", \"axis\": {\"domainColor\": \"black\", \"format\": \"%I:%M\", \"tickCount\": 4}, \"field\": \"datetime\", \"title\": \"\"}, \"y\": {\"type\": \"quantitative\", \"axis\": {\"labelFontSize\": 12, \"tickCount\": 5}, \"field\": \"tweet_count\", \"title\": \"Four-minute rolling average\"}}, \"height\": 400, \"title\": {\"text\": \"Much hype, some boredom\", \"subtitle\": [\"Four-minute rolling average of the number of uses of selected emoji in\", \"sampled tweets during the Mayweather-McGregor fight\"], \"fontSize\": 28, \"subtitleFontSize\": 20, \"anchor\": \"start\"}, \"width\": 600}, {\"data\": {\"url\": \"altair-data-954505bcd45b9d80b0d877e7b22a6015.json\", \"format\": {\"type\": \"json\"}}, \"mark\": {\"type\": \"text\", \"baseline\": \"middle\", \"dx\": 7, \"fontSize\": 14, \"fontWeight\": \"bold\", \"lineBreak\": \"\\n\"}, \"encoding\": {\"text\": {\"type\": \"nominal\", \"field\": \"note\"}, \"x\": {\"type\": \"temporal\", \"field\": \"date\"}, \"y\": {\"type\": \"quantitative\", \"field\": \"count\"}}}, {\"data\": {\"url\": \"altair-data-3d63856d27d968e33b5facb2c60179c1.json\", \"format\": {\"type\": \"json\"}}, \"mark\": {\"type\": \"line\", \"color\": \"black\"}, \"encoding\": {\"detail\": {\"type\": \"nominal\", \"field\": \"class\"}, \"x\": {\"type\": \"temporal\", \"field\": \"x\"}, \"y\": {\"type\": \"quantitative\", \"field\": \"y\"}}}], \"$schema\": \"https://vega.github.io/schema/vega-lite/v4.8.1.json\"}, {\"mode\": \"vega-lite\"});\n",
       "</script>"
      ],
      "text/plain": [
       "alt.LayerChart(...)"
      ]
     },
     "execution_count": 17,
     "metadata": {},
     "output_type": "execute_result"
    }
   ],
   "source": [
    "chart23 = alt.Chart(fsdf).mark_line().encode(\n",
    "    x=alt.X(\n",
    "        'datetime:T',\n",
    "        axis=alt.Axis(tickCount=4, domainColor='black', format='%I:%M'),\n",
    "        title='',\n",
    "        ),\n",
    "    y=alt.Y(\n",
    "        'tweet_count:Q',\n",
    "        title='Four-minute rolling average',\n",
    "        axis=alt.Axis(tickCount=5, labelFontSize =12)\n",
    "    ),\n",
    "    color=alt.Color(\n",
    "          'emoji:N',\n",
    "           scale = alt.Scale(domain=['🔥','😴'], range=['#e35f57', '#64c4c7']),\n",
    "           legend = alt.Legend(\n",
    "               orient='top',\n",
    "               title=None,\n",
    "               symbolType='stroke',\n",
    "               labelFontSize= 33\n",
    "           )\n",
    "    )\n",
    ").properties(\n",
    "    # set the dimensions of the visualization\n",
    "    width=600,\n",
    "    height=400,\n",
    "    title={\"text\": \"Much hype, some boredom\",\n",
    "           'subtitle' : ['Four-minute rolling average of the number of uses of selected emoji in', 'sampled tweets during the Mayweather-McGregor fight'],\n",
    "           \"fontSize\":28,\n",
    "           'subtitleFontSize': 20,\n",
    "           'anchor': 'start'\n",
    "           },\n",
    ")\n",
    "\n",
    "#Create the annotations\n",
    "notes23 = alt.Chart(a_df23).mark_text(\n",
    "    baseline='middle',\n",
    "    fontSize = 14,\n",
    "    fontWeight='bold',\n",
    "    lineBreak='\\n',\n",
    "    dx = 7\n",
    ").encode(\n",
    "    x='date:T',\n",
    "    y='count',\n",
    "    text='note:N'\n",
    ")\n",
    "\n",
    "#Create lines pointing to annotations\n",
    "df = pd.DataFrame({\n",
    "    'x': ['2017-08-27 00:15:00', '2017-08-27 00:15:00', '2017-08-27 00:31:15', '2017-08-27 00:36:00', '2017-08-27 00:45:00', '2017-08-27 00:45:00'],\n",
    "    'y': [1.1, .4, 1.8, 2.75, 2.75, 1.45],\n",
    "    'class': ['A', 'A', 'B', 'B', 'C', 'C']\n",
    "})\n",
    "\n",
    "lines23 = alt.Chart(df).mark_line(color='black').encode(\n",
    "    x='x:T',\n",
    "    y='y',\n",
    "    detail='class'\n",
    ")\n",
    "\n",
    "(chart23 + notes23 + lines23).configure_view(\n",
    "    strokeWidth=0\n",
    ")"
   ]
  },
  {
   "cell_type": "markdown",
   "metadata": {},
   "source": [
    "It ended just over 37 minutes after it began. Five seconds later, Mayweather leapt up on the corner ropes, victorious — [50-0](https://fivethirtyeight.com/features/mayweather-is-defined-by-the-zero-next-to-his-name/). Some observers declared it a [satisfying spectacle](https://www.si.com/boxing/2017/08/27/after-months-hype-mayweather-and-mcgregor-deliver-boxing-spectacle). Others, McGregor chief among them, [were frustrated with the finish](https://www.cbssports.com/boxing/news/conor-mcgregor-frustrated-with-refs-fight-stoppage-let-the-man-put-me-down/). The emoji users on Twitter appeared to think the fight was, for the most part, 🔥 — especially as it heated up toward the end. While the result may never have been in question, this was a welcome outcome for many who viewed Mayweather’s last megafight against Manny Pacquiao as an epic 😴😴😴😴."
   ]
  },
  {
   "cell_type": "markdown",
   "metadata": {},
   "source": [
    "<img src=\"assets/tweet3.png\" alt=\"Drawing\" style=\"width: 500px;\"/>"
   ]
  },
  {
   "cell_type": "markdown",
   "metadata": {},
   "source": [
    "<img src=\"assets/chart_4.png\" alt=\"Drawing\" style=\"width: 500px;\"/>"
   ]
  },
  {
   "cell_type": "markdown",
   "metadata": {},
   "source": [
    "** Homework note, construct your solution to this chart in the cell below. Click [here](assets/altair_chart4.png) to see a sample output from Altair."
   ]
  },
  {
   "cell_type": "markdown",
   "metadata": {},
   "source": [
    "## 2.4 your solution goes here, use the example above for the sampling and annotation"
   ]
  },
  {
   "cell_type": "code",
   "execution_count": 18,
   "metadata": {
    "deletable": false,
    "nbgrader": {
     "checksum": "15cc8435beedc03a96af849bb6eeaac0",
     "grade": true,
     "grade_id": "cell-718ac9b3de0d57a4",
     "locked": false,
     "points": 0,
     "schema_version": 1,
     "solution": true
    }
   },
   "outputs": [],
   "source": [
    "# your solution goes here, use the example above for the sampling and annotation\n",
    "\n",
    "cry_laugh = tweets.copy()\n",
    "cry_laugh = cry_laugh.resample('1s').sum()\n",
    "\n",
    "cry_laugh  = cry_laugh[(cry_laugh['😭']>0) | (cry_laugh['🤣']>0)]\n",
    "\n",
    "# next we're going to creat a rolling average\n",
    "# first for cry usage\n",
    "cdf = cry_laugh['😭'].rolling('4Min').mean().reset_index()\n",
    "cdf['emoji'] = '😭'\n",
    "cdf = cdf.rename(columns={'😭':'tweet_count'})\n",
    "\n",
    "# next for the laugh usage\n",
    "ldf = cry_laugh['🤣'].rolling('4Min').mean().reset_index()\n",
    "ldf['emoji'] = '🤣'\n",
    "ldf = ldf.rename(columns={'🤣':'tweet_count'})\n",
    "\n",
    "\n",
    "cldf = pd.concat([cdf,ldf])"
   ]
  },
  {
   "cell_type": "code",
   "execution_count": 19,
   "metadata": {},
   "outputs": [],
   "source": [
    "annotations24 = [['2017-08-27 00:10:00',2.2, 'Fight begins'],\n",
    "               ['2017-08-27 00:29:30',2., 'McGregor\\nimpresses\\nearly'],\n",
    "               ['2017-08-27 00:49:00',0.07, 'Fight ends']]\n",
    "a_df24 = pd.DataFrame(annotations24, columns=['date','count','note'])"
   ]
  },
  {
   "cell_type": "code",
   "execution_count": 20,
   "metadata": {},
   "outputs": [
    {
     "data": {
      "text/html": [
       "\n",
       "<div id=\"altair-viz-18aca66f3c334e35b153e147df597a55\"></div>\n",
       "<script type=\"text/javascript\">\n",
       "  (function(spec, embedOpt){\n",
       "    let outputDiv = document.currentScript.previousElementSibling;\n",
       "    if (outputDiv.id !== \"altair-viz-18aca66f3c334e35b153e147df597a55\") {\n",
       "      outputDiv = document.getElementById(\"altair-viz-18aca66f3c334e35b153e147df597a55\");\n",
       "    }\n",
       "    const paths = {\n",
       "      \"vega\": \"https://cdn.jsdelivr.net/npm//vega@5?noext\",\n",
       "      \"vega-lib\": \"https://cdn.jsdelivr.net/npm//vega-lib?noext\",\n",
       "      \"vega-lite\": \"https://cdn.jsdelivr.net/npm//vega-lite@4.8.1?noext\",\n",
       "      \"vega-embed\": \"https://cdn.jsdelivr.net/npm//vega-embed@6?noext\",\n",
       "    };\n",
       "\n",
       "    function loadScript(lib) {\n",
       "      return new Promise(function(resolve, reject) {\n",
       "        var s = document.createElement('script');\n",
       "        s.src = paths[lib];\n",
       "        s.async = true;\n",
       "        s.onload = () => resolve(paths[lib]);\n",
       "        s.onerror = () => reject(`Error loading script: ${paths[lib]}`);\n",
       "        document.getElementsByTagName(\"head\")[0].appendChild(s);\n",
       "      });\n",
       "    }\n",
       "\n",
       "    function showError(err) {\n",
       "      outputDiv.innerHTML = `<div class=\"error\" style=\"color:red;\">${err}</div>`;\n",
       "      throw err;\n",
       "    }\n",
       "\n",
       "    function displayChart(vegaEmbed) {\n",
       "      vegaEmbed(outputDiv, spec, embedOpt)\n",
       "        .catch(err => showError(`Javascript Error: ${err.message}<br>This usually means there's a typo in your chart specification. See the javascript console for the full traceback.`));\n",
       "    }\n",
       "\n",
       "    if(typeof define === \"function\" && define.amd) {\n",
       "      requirejs.config({paths});\n",
       "      require([\"vega-embed\"], displayChart, err => showError(`Error loading script: ${err.message}`));\n",
       "    } else if (typeof vegaEmbed === \"function\") {\n",
       "      displayChart(vegaEmbed);\n",
       "    } else {\n",
       "      loadScript(\"vega\")\n",
       "        .then(() => loadScript(\"vega-lite\"))\n",
       "        .then(() => loadScript(\"vega-embed\"))\n",
       "        .catch(showError)\n",
       "        .then(() => displayChart(vegaEmbed));\n",
       "    }\n",
       "  })({\"usermeta\": {\"embedOptions\": {\"theme\": \"fivethirtyeight\"}}, \"config\": {\"view\": {\"continuousWidth\": 400, \"continuousHeight\": 300, \"strokeWidth\": 0}}, \"layer\": [{\"data\": {\"url\": \"altair-data-53d8c2e9bb7df1aa19182c2e34b6a069.json\", \"format\": {\"type\": \"json\"}}, \"mark\": \"line\", \"encoding\": {\"color\": {\"type\": \"nominal\", \"field\": \"emoji\", \"legend\": {\"labelFontSize\": 33, \"orient\": \"top\", \"symbolType\": \"stroke\", \"title\": null}, \"scale\": {\"domain\": [\"\\ud83d\\ude2d\", \"\\ud83e\\udd23\"], \"range\": [\"#5bc1c8\", \"#f5983b\"]}}, \"x\": {\"type\": \"temporal\", \"axis\": {\"domainColor\": \"black\", \"format\": \"%I:%M\", \"tickCount\": 4}, \"field\": \"datetime\", \"title\": \"\"}, \"y\": {\"type\": \"quantitative\", \"axis\": {\"labelFontSize\": 12, \"tickCount\": 5}, \"field\": \"tweet_count\", \"title\": \"Four-minute rolling average\"}}, \"height\": 400, \"title\": {\"text\": \"Tears were shed-of joy and sorrow\", \"subtitle\": [\"Four-minute rolling average of the number of uses of selected emoji in\", \"sampled tweets during the Mayweather-McGregor fight\"], \"fontSize\": 28, \"subtitleFontSize\": 20, \"anchor\": \"start\"}, \"width\": 550}, {\"data\": {\"url\": \"altair-data-1b00db8b5aa8e823c6b5c983a278082f.json\", \"format\": {\"type\": \"json\"}}, \"mark\": {\"type\": \"text\", \"align\": \"left\", \"baseline\": \"middle\", \"dx\": 7, \"fontSize\": 16, \"fontWeight\": \"bold\", \"lineBreak\": \"\\n\"}, \"encoding\": {\"text\": {\"type\": \"nominal\", \"field\": \"note\"}, \"x\": {\"type\": \"temporal\", \"field\": \"date\"}, \"y\": {\"type\": \"quantitative\", \"field\": \"count\"}}}, {\"data\": {\"url\": \"altair-data-e7285c75052d1d5a4020d04402256803.json\", \"format\": {\"type\": \"json\"}}, \"mark\": {\"type\": \"line\", \"color\": \"black\"}, \"encoding\": {\"detail\": {\"type\": \"nominal\", \"field\": \"class\"}, \"x\": {\"type\": \"temporal\", \"field\": \"x\"}, \"y\": {\"type\": \"quantitative\", \"field\": \"y\"}}}], \"$schema\": \"https://vega.github.io/schema/vega-lite/v4.8.1.json\"}, {\"mode\": \"vega-lite\"});\n",
       "</script>"
      ],
      "text/plain": [
       "alt.LayerChart(...)"
      ]
     },
     "execution_count": 20,
     "metadata": {},
     "output_type": "execute_result"
    }
   ],
   "source": [
    "chart24 = alt.Chart(cldf).mark_line().encode(\n",
    "    x=alt.X(\n",
    "        'datetime:T',\n",
    "        axis=alt.Axis(tickCount=4, domainColor='black', format='%I:%M'),\n",
    "        title='',\n",
    "        ),\n",
    "    y=alt.Y(\n",
    "        'tweet_count',\n",
    "        title='Four-minute rolling average',\n",
    "        axis=alt.Axis(tickCount=5, labelFontSize =12)\n",
    "    ),\n",
    "    color=alt.Color(\n",
    "          'emoji',\n",
    "           scale = alt.Scale(domain=['😭','🤣'], range=['#5bc1c8', '#f5983b']),\n",
    "           legend = alt.Legend(\n",
    "               orient='top',\n",
    "               title=None,\n",
    "               symbolType='stroke',\n",
    "               labelFontSize= 33\n",
    "           )\n",
    "    )\n",
    ").properties(\n",
    "    # set the dimensions of the visualization\n",
    "    width=550,\n",
    "    height=400,\n",
    "    title={\"text\": \"Tears were shed-of joy and sorrow\",\n",
    "           'subtitle' : ['Four-minute rolling average of the number of uses of selected emoji in', 'sampled tweets during the Mayweather-McGregor fight'],\n",
    "           \"fontSize\":28,\n",
    "           'subtitleFontSize': 20,\n",
    "           'anchor': 'start'\n",
    "           },\n",
    ")\n",
    "\n",
    "#Create the annotations\n",
    "notes24 = alt.Chart(a_df24).mark_text(\n",
    "    baseline='middle',\n",
    "    fontSize = 16,\n",
    "    fontWeight='bold',\n",
    "    lineBreak='\\n',\n",
    "    dx = 7,\n",
    "    align='left'\n",
    ").encode(\n",
    "    x='date:T',\n",
    "    y='count',\n",
    "    text='note:N'\n",
    ")\n",
    "\n",
    "#Create lines pointing to annotations\n",
    "df = pd.DataFrame({\n",
    "    'x': ['2017-08-27 00:15:00', '2017-08-27 00:15:00', '2017-08-27 00:24:00', '2017-08-27 00:30:00', '2017-08-27 00:55:00', '2017-08-27 00:55:00'],\n",
    "    'y': [2.1, 1.4, 1.65, 1.75, 0.3, 0.8],\n",
    "    'class': ['A', 'A', 'B', 'B', 'C', 'C']\n",
    "})\n",
    "\n",
    "lines24 = alt.Chart(df).mark_line(color='black').encode(\n",
    "    x='x:T',\n",
    "    y='y',\n",
    "    detail='class'\n",
    ")\n",
    "\n",
    "(chart24 + notes24 + lines24).configure_view(\n",
    "    strokeWidth=0\n",
    ")"
   ]
  },
  {
   "cell_type": "markdown",
   "metadata": {},
   "source": [
    "They laughed. They cried. And they laughed some more. And they cried some more."
   ]
  },
  {
   "cell_type": "markdown",
   "metadata": {},
   "source": [
    "# 2.5 Make your own (part 1-alternative)\n",
    "Propose one *alternative* visualization for one of the article's visualizations. Add a short paragraph describing why your visualization is more *effective* based on principles of perception/cognition. If you feel your visualization is worse, that's ok! Just tell us why. (20 points/ 15 points plot + 5 justification)"
   ]
  },
  {
   "cell_type": "code",
   "execution_count": 21,
   "metadata": {
    "deletable": false,
    "nbgrader": {
     "checksum": "0b9cd943872bb4aa60e5d72eac7e1ed1",
     "grade": true,
     "grade_id": "cell-9b636219159fc577",
     "locked": false,
     "points": 0,
     "schema_version": 1,
     "solution": true
    },
    "scrolled": true
   },
   "outputs": [
    {
     "data": {
      "text/html": [
       "\n",
       "<div id=\"altair-viz-b8a29c60b05b498387e0b819807e1d13\"></div>\n",
       "<script type=\"text/javascript\">\n",
       "  (function(spec, embedOpt){\n",
       "    let outputDiv = document.currentScript.previousElementSibling;\n",
       "    if (outputDiv.id !== \"altair-viz-b8a29c60b05b498387e0b819807e1d13\") {\n",
       "      outputDiv = document.getElementById(\"altair-viz-b8a29c60b05b498387e0b819807e1d13\");\n",
       "    }\n",
       "    const paths = {\n",
       "      \"vega\": \"https://cdn.jsdelivr.net/npm//vega@5?noext\",\n",
       "      \"vega-lib\": \"https://cdn.jsdelivr.net/npm//vega-lib?noext\",\n",
       "      \"vega-lite\": \"https://cdn.jsdelivr.net/npm//vega-lite@4.8.1?noext\",\n",
       "      \"vega-embed\": \"https://cdn.jsdelivr.net/npm//vega-embed@6?noext\",\n",
       "    };\n",
       "\n",
       "    function loadScript(lib) {\n",
       "      return new Promise(function(resolve, reject) {\n",
       "        var s = document.createElement('script');\n",
       "        s.src = paths[lib];\n",
       "        s.async = true;\n",
       "        s.onload = () => resolve(paths[lib]);\n",
       "        s.onerror = () => reject(`Error loading script: ${paths[lib]}`);\n",
       "        document.getElementsByTagName(\"head\")[0].appendChild(s);\n",
       "      });\n",
       "    }\n",
       "\n",
       "    function showError(err) {\n",
       "      outputDiv.innerHTML = `<div class=\"error\" style=\"color:red;\">${err}</div>`;\n",
       "      throw err;\n",
       "    }\n",
       "\n",
       "    function displayChart(vegaEmbed) {\n",
       "      vegaEmbed(outputDiv, spec, embedOpt)\n",
       "        .catch(err => showError(`Javascript Error: ${err.message}<br>This usually means there's a typo in your chart specification. See the javascript console for the full traceback.`));\n",
       "    }\n",
       "\n",
       "    if(typeof define === \"function\" && define.amd) {\n",
       "      requirejs.config({paths});\n",
       "      require([\"vega-embed\"], displayChart, err => showError(`Error loading script: ${err.message}`));\n",
       "    } else if (typeof vegaEmbed === \"function\") {\n",
       "      displayChart(vegaEmbed);\n",
       "    } else {\n",
       "      loadScript(\"vega\")\n",
       "        .then(() => loadScript(\"vega-lite\"))\n",
       "        .then(() => loadScript(\"vega-embed\"))\n",
       "        .catch(showError)\n",
       "        .then(() => displayChart(vegaEmbed));\n",
       "    }\n",
       "  })({\"usermeta\": {\"embedOptions\": {\"theme\": \"fivethirtyeight\"}}, \"config\": {\"view\": {\"continuousWidth\": 400, \"continuousHeight\": 300}, \"title\": {\"anchor\": \"middle\", \"fontSize\": 33, \"offset\": 5, \"orient\": \"top\"}}, \"hconcat\": [{\"mark\": {\"type\": \"area\", \"color\": \"#5bc1c8\", \"size\": 5}, \"encoding\": {\"x\": {\"type\": \"quantitative\", \"axis\": {\"title\": \"Four-minute rolling average\"}, \"field\": \"tweet_count\", \"scale\": {\"domain\": [0, 2.5]}, \"sort\": \"descending\"}, \"y\": {\"type\": \"temporal\", \"axis\": {\"format\": \"%I:%M\", \"labels\": false, \"ticks\": false, \"title\": \"\"}, \"field\": \"datetime\", \"sort\": \"descending\"}}, \"height\": 300, \"title\": \"\\ud83d\\ude2d\", \"transform\": [{\"filter\": \"(datum.emoji === '\\ud83d\\ude2d')\"}], \"width\": 300}, {\"mark\": {\"type\": \"area\", \"color\": \"#f5983b\", \"size\": 5}, \"encoding\": {\"x\": {\"type\": \"quantitative\", \"axis\": {\"title\": \"Four-minute rolling average\"}, \"field\": \"tweet_count\", \"scale\": {\"domain\": [0, 2.5]}, \"sort\": \"ascending\"}, \"y\": {\"type\": \"temporal\", \"axis\": {\"format\": \"%I:%M\", \"ticks\": false, \"title\": \"\"}, \"field\": \"datetime\", \"sort\": \"descending\", \"title\": \"\"}}, \"height\": 300, \"title\": \"\\ud83e\\udd23\", \"transform\": [{\"filter\": \"(datum.emoji === '\\ud83e\\udd23')\"}], \"width\": 300}], \"data\": {\"url\": \"altair-data-53d8c2e9bb7df1aa19182c2e34b6a069.json\", \"format\": {\"type\": \"json\"}}, \"resolve\": {\"scale\": {\"y\": \"shared\"}}, \"spacing\": 0, \"title\": {\"text\": \"Tears were shed-of joy and sorrow\", \"subtitle\": [\"Four-minute rolling average of the number of uses of selected emoji in\", \"sampled tweets during the Mayweather-McGregor fight\"], \"fontSize\": 28, \"subtitleFontSize\": 20, \"anchor\": \"start\"}, \"$schema\": \"https://vega.github.io/schema/vega-lite/v4.8.1.json\"}, {\"mode\": \"vega-lite\"});\n",
       "</script>"
      ],
      "text/plain": [
       "alt.HConcatChart(...)"
      ]
     },
     "execution_count": 21,
     "metadata": {},
     "output_type": "execute_result"
    }
   ],
   "source": [
    "alt.themes.enable('fivethirtyeight') #Turns out 538 has their own Altair theme\n",
    "\n",
    "cry = alt.Chart(cldf).mark_area(color='#5bc1c8', size=5).transform_filter(\n",
    "    alt.datum.emoji == '😭'\n",
    ").encode(\n",
    "    y= alt.Y(\n",
    "        'datetime:T',\n",
    "        sort='descending',\n",
    "        axis=alt.Axis(\n",
    "            labels=False,\n",
    "            title='',\n",
    "            ticks=False,\n",
    "            format='%I:%M'\n",
    "            )\n",
    "    ),\n",
    "    x=alt.X('tweet_count:Q',\n",
    "            axis=alt.Axis(title='Four-minute rolling average'),\n",
    "            sort=alt.SortOrder('descending'),\n",
    "            scale=alt.Scale(domain=(0, 2.5)),\n",
    "    )\n",
    ").properties(\n",
    "    width = 300,\n",
    "    height= 300,\n",
    "    title='😭',\n",
    ")\n",
    "\n",
    "\n",
    "laugh = alt.Chart(cldf).mark_area(color='#f5983b', size=5).transform_filter(\n",
    "    alt.datum.emoji == '🤣'\n",
    ").encode(\n",
    "    y= alt.Y(\n",
    "        'datetime:T',\n",
    "        sort='descending',\n",
    "        title='',\n",
    "        axis=alt.Axis(\n",
    "            title='',\n",
    "            ticks=False,\n",
    "            format='%I:%M'\n",
    "            )\n",
    "    ),\n",
    "    x=alt.X('tweet_count:Q',\n",
    "            axis=alt.Axis(title='Four-minute rolling average'),\n",
    "            sort=alt.SortOrder('ascending'),\n",
    "            scale=alt.Scale(domain=(0, 2.5)),\n",
    "           )\n",
    ").properties(\n",
    "    width = 300,\n",
    "    height= 300,\n",
    "    title= '🤣'\n",
    ")\n",
    "\n",
    "\n",
    "chart25 = alt.hconcat(cry, laugh,spacing=0).resolve_scale(y='shared'\n",
    ").configure_title(\n",
    "    fontSize=33, offset=5, orient='top', anchor='middle'\n",
    ").properties(\n",
    "  title={\"text\": \"Tears were shed-of joy and sorrow\",\n",
    "           'subtitle' : ['Four-minute rolling average of the number of uses of selected emoji in', 'sampled tweets during the Mayweather-McGregor fight'],\n",
    "           \"fontSize\":28,\n",
    "           'subtitleFontSize': 20,\n",
    "           'anchor': 'start'\n",
    "           }\n",
    ").resolve_scale(y='shared')\n",
    "\n",
    "chart25"
   ]
  },
  {
   "cell_type": "markdown",
   "metadata": {},
   "source": [
    "# 2.6 Make your own (part 2-novel)\n",
    "Propose a *new* visualization to complement a part of the article. Add a short paragraph justifying your decisions in terms of Perception/Cognition processes. If you feel your visualization is worse, that's ok! Just tell us why. (20 points/ 15 points plot + 5 justification)"
   ]
  },
  {
   "cell_type": "code",
   "execution_count": 22,
   "metadata": {
    "deletable": false,
    "nbgrader": {
     "checksum": "8448ae695c68f98d279e3e9fba50f028",
     "grade": true,
     "grade_id": "cell-f05fa16510d6f918",
     "locked": false,
     "points": 0,
     "schema_version": 1,
     "solution": true
    }
   },
   "outputs": [
    {
     "data": {
      "text/html": [
       "\n",
       "<div id=\"altair-viz-b318d81f506b416c8210228a57042def\"></div>\n",
       "<script type=\"text/javascript\">\n",
       "  (function(spec, embedOpt){\n",
       "    let outputDiv = document.currentScript.previousElementSibling;\n",
       "    if (outputDiv.id !== \"altair-viz-b318d81f506b416c8210228a57042def\") {\n",
       "      outputDiv = document.getElementById(\"altair-viz-b318d81f506b416c8210228a57042def\");\n",
       "    }\n",
       "    const paths = {\n",
       "      \"vega\": \"https://cdn.jsdelivr.net/npm//vega@5?noext\",\n",
       "      \"vega-lib\": \"https://cdn.jsdelivr.net/npm//vega-lib?noext\",\n",
       "      \"vega-lite\": \"https://cdn.jsdelivr.net/npm//vega-lite@4.8.1?noext\",\n",
       "      \"vega-embed\": \"https://cdn.jsdelivr.net/npm//vega-embed@6?noext\",\n",
       "    };\n",
       "\n",
       "    function loadScript(lib) {\n",
       "      return new Promise(function(resolve, reject) {\n",
       "        var s = document.createElement('script');\n",
       "        s.src = paths[lib];\n",
       "        s.async = true;\n",
       "        s.onload = () => resolve(paths[lib]);\n",
       "        s.onerror = () => reject(`Error loading script: ${paths[lib]}`);\n",
       "        document.getElementsByTagName(\"head\")[0].appendChild(s);\n",
       "      });\n",
       "    }\n",
       "\n",
       "    function showError(err) {\n",
       "      outputDiv.innerHTML = `<div class=\"error\" style=\"color:red;\">${err}</div>`;\n",
       "      throw err;\n",
       "    }\n",
       "\n",
       "    function displayChart(vegaEmbed) {\n",
       "      vegaEmbed(outputDiv, spec, embedOpt)\n",
       "        .catch(err => showError(`Javascript Error: ${err.message}<br>This usually means there's a typo in your chart specification. See the javascript console for the full traceback.`));\n",
       "    }\n",
       "\n",
       "    if(typeof define === \"function\" && define.amd) {\n",
       "      requirejs.config({paths});\n",
       "      require([\"vega-embed\"], displayChart, err => showError(`Error loading script: ${err.message}`));\n",
       "    } else if (typeof vegaEmbed === \"function\") {\n",
       "      displayChart(vegaEmbed);\n",
       "    } else {\n",
       "      loadScript(\"vega\")\n",
       "        .then(() => loadScript(\"vega-lite\"))\n",
       "        .then(() => loadScript(\"vega-embed\"))\n",
       "        .catch(showError)\n",
       "        .then(() => displayChart(vegaEmbed));\n",
       "    }\n",
       "  })({\"usermeta\": {\"embedOptions\": {\"theme\": \"fivethirtyeight\"}}, \"config\": {\"view\": {\"continuousWidth\": 400, \"continuousHeight\": 300}}, \"data\": {\"url\": \"altair-data-87cf674c99234acb7e93666f53ca4084.json\", \"format\": {\"type\": \"json\"}}, \"mark\": {\"type\": \"line\", \"size\": 1}, \"encoding\": {\"color\": {\"type\": \"nominal\", \"field\": \"emoji\", \"legend\": null}, \"row\": {\"type\": \"nominal\", \"field\": \"emoji\", \"header\": {\"labelFontSize\": 22}, \"sort\": [\"\\ud83d\\ude02\", \"\\ud83e\\udd4a\", \"\\ud83d\\udc4a\", \"\\ud83d\\udc4f\", \"\\ud83d\\udcaa\", \"\\ud83c\\uddee\\ud83c\\uddea\", \"\\ud83d\\udcb0\"], \"title\": \"Four-Minute Rolling Average\"}, \"x\": {\"type\": \"temporal\", \"axis\": {\"format\": \"%I:%M\", \"tickCount\": 4}, \"field\": \"datetime\"}, \"y\": {\"type\": \"quantitative\", \"axis\": {\"title\": \"\"}, \"field\": \"tweet_count\"}}, \"height\": 100, \"resolve\": {\"scale\": {\"x\": \"independent\", \"y\": \"independent\"}}, \"title\": {\"text\": \"The other emojis?\", \"subtitle\": [\"Four-minute rolling average of the number of uses of\", \"the other top 10 emojis not already in a chart\"], \"fontSize\": 28, \"subtitleFontSize\": 18, \"anchor\": \"start\"}, \"width\": 400, \"$schema\": \"https://vega.github.io/schema/vega-lite/v4.8.1.json\"}, {\"mode\": \"vega-lite\"});\n",
       "</script>"
      ],
      "text/plain": [
       "alt.Chart(...)"
      ]
     },
     "execution_count": 22,
     "metadata": {},
     "output_type": "execute_result"
    }
   ],
   "source": [
    "others = tweets.copy()\n",
    "others = others.resample('1s').sum()\n",
    "\n",
    "others  = others[(others['😂']>0) | (others['🥊']>0) | (others['👊']>0) | (others['👏']>0) | (others['💪']>0) | (others['🇮🇪']>0) | (others['💰']>0)]\n",
    "\n",
    "# next we're going to create a rolling average\n",
    "# first for horizontal laugh usage\n",
    "hldf = others['😂'].rolling('4Min').mean().reset_index()\n",
    "hldf['emoji'] = '😂'\n",
    "hldf = hldf.rename(columns={'😂':'tweet_count'})\n",
    "\n",
    "# next for the upward punch usage\n",
    "updf = others['🥊'].rolling('4Min').mean().reset_index()\n",
    "updf['emoji'] = '🥊'\n",
    "updf = updf.rename(columns={'🥊':'tweet_count'})\n",
    "\n",
    "# next for horizontal punch usage\n",
    "hpdf = others['👊'].rolling('4Min').mean().reset_index()\n",
    "hpdf['emoji'] = '👊'\n",
    "hpdf = hpdf.rename(columns={'👊':'tweet_count'})\n",
    "\n",
    "# next for the clap usage\n",
    "clapdf = others['👏'].rolling('4Min').mean().reset_index()\n",
    "clapdf['emoji'] = '👏'\n",
    "clapdf = clapdf.rename(columns={'👏':'tweet_count'})\n",
    "\n",
    "# next for the arm usage\n",
    "armdf = others['💪'].rolling('4Min').mean().reset_index()\n",
    "armdf['emoji'] = '💪'\n",
    "armdf = armdf.rename(columns={'💪':'tweet_count'})\n",
    "\n",
    "# next for Irish Flag usage\n",
    "irishdf = others['🇮🇪'].rolling('4Min').mean().reset_index()\n",
    "irishdf['emoji'] = '🇮🇪'\n",
    "irishdf = irishdf.rename(columns={'🇮🇪':'tweet_count'})\n",
    "\n",
    "# next for the bag usage\n",
    "bagdf = others['💰'].rolling('4Min').mean().reset_index()\n",
    "bagdf['emoji'] = '💰'\n",
    "bagdf = bagdf.rename(columns={'💰':'tweet_count'})\n",
    "\n",
    "allothers = pd.concat([hldf,updf, hpdf, clapdf, armdf, irishdf, bagdf])\n",
    "\n",
    "\n",
    "alt.Chart(allothers).mark_line(size=1).encode(\n",
    "    x=alt.X(\n",
    "        'datetime:T',\n",
    "        axis=alt.Axis(tickCount=4, format='%I:%M')\n",
    "    ),\n",
    "     y=alt.Y(\n",
    "        'tweet_count:Q',\n",
    "         axis=alt.Axis(\n",
    "             title=''),\n",
    "           ),\n",
    "    color=alt.Color('emoji', legend =None),\n",
    "    row=alt.Row(\n",
    "        'emoji:N', \n",
    "         sort=['😂','🥊', '👊', '👏', '💪', '🇮🇪', '💰'],\n",
    "        header=alt.Header(labelFontSize=22),\n",
    "        title='Four-Minute Rolling Average'\n",
    "    )\n",
    ").properties(\n",
    "    height=100,\n",
    "    width=400,\n",
    "    title={\"text\": \"The other emojis?\",\n",
    "           'subtitle' : ['Four-minute rolling average of the number of uses of', 'the other top 10 emojis not already in a chart'],\n",
    "           \"fontSize\":28,\n",
    "           'subtitleFontSize': 18,\n",
    "           'anchor': 'start'\n",
    "           }\n",
    ").resolve_scale(y='independent', x='independent')\n"
   ]
  },
  {
   "cell_type": "code",
   "execution_count": null,
   "metadata": {},
   "outputs": [],
   "source": []
  }
 ],
 "metadata": {
  "coursera": {
   "schema_names": [
    "mads_information_visualization_i_v3_assignment4"
   ]
  },
  "kernelspec": {
   "display_name": "Python 3",
   "language": "python",
   "name": "python3"
  },
  "language_info": {
   "codemirror_mode": {
    "name": "ipython",
    "version": 3
   },
   "file_extension": ".py",
   "mimetype": "text/x-python",
   "name": "python",
   "nbconvert_exporter": "python",
   "pygments_lexer": "ipython3",
   "version": "3.7.4"
  },
  "toc": {
   "colors": {
    "hover_highlight": "#DAA520",
    "running_highlight": "#FF0000",
    "selected_highlight": "#FFD700"
   },
   "moveMenuLeft": true,
   "nav_menu": {
    "height": "300px",
    "width": "252px"
   },
   "navigate_menu": true,
   "number_sections": false,
   "sideBar": false,
   "threshold": 4,
   "toc_cell": false,
   "toc_position": {
    "height": "259px",
    "left": "1px",
    "right": "20px",
    "top": "110px",
    "width": "212px"
   },
   "toc_section_display": "none",
   "toc_window_display": true,
   "widenNotebook": false
  }
 },
 "nbformat": 4,
 "nbformat_minor": 2
}
